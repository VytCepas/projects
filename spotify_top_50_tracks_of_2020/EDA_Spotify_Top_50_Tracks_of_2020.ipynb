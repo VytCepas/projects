{
 "cells": [
  {
   "cell_type": "markdown",
   "metadata": {},
   "source": [
    "# Exploratory Data Analysis of Spotify Top 50 Tracks of 2020\n"
   ]
  },
  {
   "cell_type": "markdown",
   "metadata": {},
   "source": [
    "## Imports\n"
   ]
  },
  {
   "cell_type": "markdown",
   "metadata": {},
   "source": [
    "### Importing Python modules\n"
   ]
  },
  {
   "cell_type": "code",
   "execution_count": null,
   "metadata": {},
   "outputs": [],
   "source": [
    "import pandas as pd\n",
    "import zipfile\n",
    "import subprocess"
   ]
  },
  {
   "cell_type": "markdown",
   "metadata": {},
   "source": [
    "### Downloading compressed dataset of Spotify Top 50 Tracks (2020)\n"
   ]
  },
  {
   "cell_type": "code",
   "execution_count": null,
   "metadata": {},
   "outputs": [],
   "source": [
    "COMMAND_TO_DOWNLOAD_DATASET_OF_TOP_50_SPOTIFY_TRACKS_2020 = (\n",
    "    \"kaggle datasets download --force -d atillacolak/top-50-spotify-tracks-2020\"\n",
    ")\n",
    "\n",
    "subprocess.run(\n",
    "    COMMAND_TO_DOWNLOAD_DATASET_OF_TOP_50_SPOTIFY_TRACKS_2020, shell=True, check=True\n",
    ")"
   ]
  },
  {
   "cell_type": "markdown",
   "metadata": {},
   "source": [
    "#### Extracting compressed dataset of Spotify Top 50 Tracks (2020)\n"
   ]
  },
  {
   "cell_type": "code",
   "execution_count": null,
   "metadata": {},
   "outputs": [],
   "source": [
    "ZIPPED_DATASET_OF_SPOTIFY_TOP_50_TRACKS_2020 = \"top-50-spotify-tracks-2020.zip\"\n",
    "\n",
    "with zipfile.ZipFile(ZIPPED_DATASET_OF_SPOTIFY_TOP_50_TRACKS_2020, \"r\") as zip_ref:\n",
    "    zip_ref.extractall(\".\")\n",
    "    print(\"Zipped files extraction has been successful.\")"
   ]
  },
  {
   "cell_type": "markdown",
   "metadata": {},
   "source": [
    "### Importing dataset of Spotify Top 50 Tracks (2020) into memory as a pandas DataFrame\n"
   ]
  },
  {
   "cell_type": "code",
   "execution_count": 47,
   "metadata": {},
   "outputs": [],
   "source": [
    "DATASET_OF_SPOTIFY_TOP_50_TRACKS_2020 = \"spotifytoptracks.csv\"\n",
    "\n",
    "spotify_top_50_tracks_df = pd.read_csv(\n",
    "    DATASET_OF_SPOTIFY_TOP_50_TRACKS_2020,\n",
    "    sep=\",\",\n",
    "    index_col=0,\n",
    "    encoding=\"utf-8\",\n",
    "    header=0,\n",
    "    dtype={\n",
    "        \"artist\": \"category\",\n",
    "        \"album\": \"category\",\n",
    "        \"track_name\": \"category\",\n",
    "        \"track_id\": \"string\",\n",
    "        \"energy\": \"Float32\",\n",
    "        \"danceability\": \"Float32\",\n",
    "        \"key\": \"Float32\",\n",
    "        \"loudness\": \"Float32\",\n",
    "        \"acousticness\": \"Float32\",\n",
    "        \"speechiness\": \"Float32\",\n",
    "        \"instrumentalness\": \"Float32\",\n",
    "        \"liveness\": \"Float32\",\n",
    "        \"valence\": \"Float32\",\n",
    "        \"tempo\": \"Float32\",\n",
    "        \"duration_ms\": \"Int32\",\n",
    "        \"genre\": \"category\",\n",
    "    },\n",
    ")"
   ]
  },
  {
   "cell_type": "markdown",
   "metadata": {},
   "source": [
    "### Adding additional 'duration' column\n"
   ]
  },
  {
   "cell_type": "code",
   "execution_count": null,
   "metadata": {},
   "outputs": [],
   "source": [
    "def ms_to_min_sec(ms):\n",
    "    minutes = int((ms / (1000 * 60)) % 60)\n",
    "    seconds = int((ms / 1000) % 60)\n",
    "    return f\"{minutes:02}:{seconds:02}\"\n",
    "\n",
    "\n",
    "spotify_top_50_tracks_df[\"duration\"] = spotify_top_50_tracks_df[\"duration_ms\"].apply(\n",
    "    ms_to_min_sec\n",
    ")"
   ]
  },
  {
   "cell_type": "markdown",
   "metadata": {},
   "source": [
    "## Data Cleaning\n"
   ]
  },
  {
   "cell_type": "markdown",
   "metadata": {},
   "source": [
    "### Handling missing values\n"
   ]
  },
  {
   "cell_type": "markdown",
   "metadata": {},
   "source": [
    "#### Checking whether empty values exist\n"
   ]
  },
  {
   "cell_type": "code",
   "execution_count": null,
   "metadata": {},
   "outputs": [],
   "source": [
    "(\n",
    "    spotify_top_50_tracks_df.isna()\n",
    "    .any()\n",
    "    .copy()\n",
    "    .rename(\"missing_values_exist_in_columns\")\n",
    "    .rename_axis(\"df_columns\")\n",
    ")"
   ]
  },
  {
   "cell_type": "markdown",
   "metadata": {},
   "source": [
    "**_There is no missing values in 'spotify_top_50_tracks_df' data._**\n"
   ]
  },
  {
   "cell_type": "markdown",
   "metadata": {},
   "source": [
    "### Removing duplicate samples and features\n"
   ]
  },
  {
   "cell_type": "markdown",
   "metadata": {},
   "source": [
    "#### Checking whether duplicate features exist\n"
   ]
  },
  {
   "cell_type": "code",
   "execution_count": null,
   "metadata": {},
   "outputs": [],
   "source": [
    "spotify_top_50_tracks_df.columns.duplicated().any()"
   ]
  },
  {
   "cell_type": "markdown",
   "metadata": {},
   "source": [
    "**_There is no duplicate features in 'spotify_top_50_tracks_df' data._**\n"
   ]
  },
  {
   "cell_type": "markdown",
   "metadata": {},
   "source": [
    "#### Checking whether duplicate samples exist\n"
   ]
  },
  {
   "cell_type": "code",
   "execution_count": null,
   "metadata": {},
   "outputs": [],
   "source": [
    "spotify_top_50_tracks_df.duplicated(subset=[\"track_id\"]).any()"
   ]
  },
  {
   "cell_type": "markdown",
   "metadata": {},
   "source": [
    "**_There is no duplicate samples in 'spotify_top_50_tracks_df' data._**\n"
   ]
  },
  {
   "cell_type": "markdown",
   "metadata": {},
   "source": [
    "### Treating the outliers\n"
   ]
  },
  {
   "cell_type": "markdown",
   "metadata": {},
   "source": [
    "#### Checking whether numerical features contain negative numbers\n"
   ]
  },
  {
   "cell_type": "code",
   "execution_count": null,
   "metadata": {},
   "outputs": [],
   "source": [
    "numerical_columns = spotify_top_50_tracks_df.select_dtypes(\"number\").columns.tolist()\n",
    "\n",
    "(\n",
    "    spotify_top_50_tracks_df[numerical_columns]\n",
    "    .apply(lambda col: (col < 0))\n",
    "    .any()\n",
    "    .rename(\"negative_numerical_values_exist\")\n",
    "    .rename_axis(\"df_columns\")\n",
    ")"
   ]
  },
  {
   "cell_type": "markdown",
   "metadata": {},
   "source": [
    "**_There is no negative values in 'spotify_top_50_tracks_df' data except in 'loudness' column data which is expected._**\n"
   ]
  },
  {
   "cell_type": "code",
   "execution_count": null,
   "metadata": {},
   "outputs": [],
   "source": [
    "((spotify_top_50_tracks_df[\"loudness\"] < 0).all())"
   ]
  },
  {
   "cell_type": "markdown",
   "metadata": {},
   "source": [
    "**_All the 'loudness' column values are negative in 'spotify_top_50_tracks_df' data, which is expected, because negative values indicate how many decibels below the maximum loudness the track is._**\n"
   ]
  },
  {
   "cell_type": "markdown",
   "metadata": {},
   "source": [
    "#### Checking whether normalized features are truly scaled between 0 and 1\n"
   ]
  },
  {
   "cell_type": "code",
   "execution_count": null,
   "metadata": {},
   "outputs": [],
   "source": [
    "normalized_columns = [\n",
    "    \"energy\",\n",
    "    \"danceability\",\n",
    "    \"acousticness\",\n",
    "    \"speechiness\",\n",
    "    \"instrumentalness\",\n",
    "    \"liveness\",\n",
    "    \"valence\",\n",
    "]\n",
    "\n",
    "(\n",
    "    spotify_top_50_tracks_df[normalized_columns]\n",
    "    .apply(lambda col: col.between(0, 1))\n",
    "    .all()\n",
    "    .rename(\"feature_values_are_normalized\")\n",
    "    .rename_axis(\"df_columns\")\n",
    ")"
   ]
  },
  {
   "cell_type": "markdown",
   "metadata": {},
   "source": [
    "**_All normalized features contain values between 0 and 1_**\n"
   ]
  },
  {
   "cell_type": "markdown",
   "metadata": {},
   "source": [
    "## Data Analysis\n"
   ]
  },
  {
   "cell_type": "markdown",
   "metadata": {},
   "source": [
    "### Dataset Overview\n"
   ]
  },
  {
   "cell_type": "markdown",
   "metadata": {},
   "source": [
    "#### How many observations are there in this dataset?\n"
   ]
  },
  {
   "cell_type": "code",
   "execution_count": null,
   "metadata": {},
   "outputs": [],
   "source": [
    "num_of_observations = spotify_top_50_tracks_df.shape[0]\n",
    "\n",
    "print(f\"Number of observation: {num_of_observations}\")"
   ]
  },
  {
   "cell_type": "markdown",
   "metadata": {},
   "source": [
    "#### How many features this dataset has?\n"
   ]
  },
  {
   "cell_type": "code",
   "execution_count": null,
   "metadata": {},
   "outputs": [],
   "source": [
    "num_of_features = spotify_top_50_tracks_df.shape[1]\n",
    "\n",
    "print(f\"Number of features: {num_of_features}\")"
   ]
  },
  {
   "cell_type": "markdown",
   "metadata": {},
   "source": [
    "#### Which of the features are categorical?\n"
   ]
  },
  {
   "cell_type": "code",
   "execution_count": null,
   "metadata": {},
   "outputs": [],
   "source": [
    "categorical_features = spotify_top_50_tracks_df.select_dtypes(\n",
    "    \"category\"\n",
    ").columns.tolist()\n",
    "\n",
    "print(\"Categorical features:\", *categorical_features, sep=\"\\n • \")"
   ]
  },
  {
   "cell_type": "markdown",
   "metadata": {},
   "source": [
    "#### Which of the features are numeric?\n"
   ]
  },
  {
   "cell_type": "code",
   "execution_count": null,
   "metadata": {},
   "outputs": [],
   "source": [
    "numerical_features = spotify_top_50_tracks_df.select_dtypes(\"number\").columns.tolist()\n",
    "\n",
    "print(\"Numerical features:\", *numerical_features, sep=\"\\n • \")"
   ]
  },
  {
   "cell_type": "markdown",
   "metadata": {},
   "source": [
    "### Artists\n"
   ]
  },
  {
   "cell_type": "markdown",
   "metadata": {},
   "source": [
    "#### Are there any artists that have more than 1 popular track? If yes, which and how many?\n"
   ]
  },
  {
   "cell_type": "code",
   "execution_count": null,
   "metadata": {},
   "outputs": [],
   "source": [
    "artist_track_counts = spotify_top_50_tracks_df.groupby(\"artist\", observed=True).agg(\n",
    "    {\"track_name\": \"count\"},\n",
    ")\n",
    "\n",
    "artists_with_multiple_tracks = (\n",
    "    artist_track_counts[artist_track_counts[\"track_name\"] > 1]\n",
    "    .reset_index()\n",
    "    .rename(columns={\"track_name\": \"track_count\"})\n",
    ")\n",
    "\n",
    "\n",
    "print(\n",
    "    \"Artists having more than 1 track in Spotify's Top 50 (2020):\",\n",
    ")\n",
    "\n",
    "artists_with_multiple_tracks"
   ]
  },
  {
   "cell_type": "markdown",
   "metadata": {},
   "source": [
    "#### Who was the most popular artist?\n"
   ]
  },
  {
   "cell_type": "code",
   "execution_count": null,
   "metadata": {},
   "outputs": [],
   "source": [
    "def find_most_popular_artists(\n",
    "    artists_df: pd.DataFrame, track_count_col: str, artist_col: str\n",
    "):\n",
    "    max_count = artists_df[track_count_col].max()\n",
    "    most_popular_artists = artists_df.loc[\n",
    "        artists_df[track_count_col] == max_count, artist_col\n",
    "    ].tolist()\n",
    "    return most_popular_artists\n",
    "\n",
    "\n",
    "most_popular_artists_list = find_most_popular_artists(\n",
    "    artists_with_multiple_tracks, \"track_count\", \"artist\"\n",
    ")\n",
    "\n",
    "print(\n",
    "    \"Most popular artist(s) in Spotify's Top 50 (2020):\",\n",
    "    \", \".join(most_popular_artists_list),\n",
    ")"
   ]
  },
  {
   "cell_type": "markdown",
   "metadata": {},
   "source": [
    "#### How many artists in total have their songs in the top 50?\n"
   ]
  },
  {
   "cell_type": "code",
   "execution_count": null,
   "metadata": {},
   "outputs": [],
   "source": [
    "num_of_artists_with_multiple_tracks = artists_with_multiple_tracks[\"artist\"].count()\n",
    "\n",
    "print(\n",
    "    \"Count of artists with multiple tracks in Spotify's Top 50 (2020):\",\n",
    "    num_of_artists_with_multiple_tracks,\n",
    ")"
   ]
  },
  {
   "cell_type": "markdown",
   "metadata": {},
   "source": [
    "### Albums\n"
   ]
  },
  {
   "cell_type": "markdown",
   "metadata": {},
   "source": [
    "#### Are there any albums that have more than 1 popular track? If yes, which and how many?\n"
   ]
  },
  {
   "cell_type": "code",
   "execution_count": null,
   "metadata": {},
   "outputs": [],
   "source": [
    "album_track_counts = spotify_top_50_tracks_df.groupby(\"album\", observed=True).agg(\n",
    "    {\"track_name\": \"count\"},\n",
    ")\n",
    "\n",
    "albums_with_multiple_tracks = album_track_counts[\n",
    "    album_track_counts[\"track_name\"] > 1\n",
    "].reset_index()\n",
    "\n",
    "print(\n",
    "    \"Albums having more than 1 track in Spotify's Top 50 (2020):\",\n",
    ")\n",
    "\n",
    "albums_with_multiple_tracks"
   ]
  },
  {
   "cell_type": "markdown",
   "metadata": {},
   "source": [
    "#### How many albums in total have their songs in the top 50?\n"
   ]
  },
  {
   "cell_type": "code",
   "execution_count": null,
   "metadata": {},
   "outputs": [],
   "source": [
    "num_of_albums_with_multiple_tracks = albums_with_multiple_tracks[\"album\"].count()\n",
    "\n",
    "print(\n",
    "    \"Count of albums with multiple tracks in Spotify's Top 50 (2020):\",\n",
    "    num_of_albums_with_multiple_tracks,\n",
    ")"
   ]
  },
  {
   "cell_type": "markdown",
   "metadata": {},
   "source": [
    "### Tracks\n"
   ]
  },
  {
   "cell_type": "markdown",
   "metadata": {},
   "source": [
    "#### Which tracks have a danceability score above 0.7?\n"
   ]
  },
  {
   "cell_type": "code",
   "execution_count": null,
   "metadata": {},
   "outputs": [],
   "source": [
    "print(\n",
    "    \"Tracks with danceability score above 0.7 in Spotify's Top 50 (2020):\",\n",
    ")\n",
    "\n",
    "spotify_top_50_tracks_df.loc[\n",
    "    spotify_top_50_tracks_df[\"danceability\"] > 0.7, [\"track_name\", \"danceability\"]\n",
    "].reset_index(drop=True).sort_values(\"danceability\")"
   ]
  },
  {
   "cell_type": "markdown",
   "metadata": {},
   "source": [
    "#### Which tracks have a danceability score below 0.4?\n"
   ]
  },
  {
   "cell_type": "code",
   "execution_count": null,
   "metadata": {},
   "outputs": [],
   "source": [
    "print(\n",
    "    \"Tracks with danceability score below 0.4 in Spotify's Top 50 (2020):\",\n",
    ")\n",
    "\n",
    "spotify_top_50_tracks_df.loc[\n",
    "    spotify_top_50_tracks_df[\"danceability\"] < 0.4, [\"track_name\", \"danceability\"]\n",
    "]"
   ]
  },
  {
   "cell_type": "markdown",
   "metadata": {},
   "source": [
    "#### Which tracks have their loudness above -5?\n"
   ]
  },
  {
   "cell_type": "code",
   "execution_count": null,
   "metadata": {},
   "outputs": [],
   "source": [
    "print(\n",
    "    \"Tracks with loudness above -5 in Spotify's Top 50 (2020):\",\n",
    ")\n",
    "\n",
    "spotify_top_50_tracks_df.loc[\n",
    "    spotify_top_50_tracks_df[\"loudness\"] > -5, [\"track_name\", \"loudness\"]\n",
    "]"
   ]
  },
  {
   "cell_type": "markdown",
   "metadata": {},
   "source": [
    "#### Which tracks have their loudness below -8?\n"
   ]
  },
  {
   "cell_type": "code",
   "execution_count": null,
   "metadata": {},
   "outputs": [],
   "source": [
    "print(\n",
    "    \"Tracks with loudness below -8 in Spotify's Top 50 (2020):\",\n",
    ")\n",
    "\n",
    "spotify_top_50_tracks_df.loc[\n",
    "    spotify_top_50_tracks_df[\"loudness\"] < (-8), [\"track_name\", \"loudness\"]\n",
    "]"
   ]
  },
  {
   "cell_type": "markdown",
   "metadata": {},
   "source": [
    "#### Which track is the shortest?\n"
   ]
  },
  {
   "cell_type": "code",
   "execution_count": null,
   "metadata": {},
   "outputs": [],
   "source": [
    "min_duration = spotify_top_50_tracks_df[\"duration_ms\"].min()\n",
    "shortest_track_df = spotify_top_50_tracks_df.loc[\n",
    "    spotify_top_50_tracks_df[\"duration_ms\"] == min_duration,\n",
    "    [\"track_name\", \"duration_ms\"],\n",
    "]\n",
    "\n",
    "print(\n",
    "    \"The shortest track in Spotify's Top 50 (2020):\",\n",
    ")\n",
    "shortest_track_df"
   ]
  },
  {
   "cell_type": "markdown",
   "metadata": {},
   "source": [
    "#### Which track is the longest?\n"
   ]
  },
  {
   "cell_type": "code",
   "execution_count": null,
   "metadata": {},
   "outputs": [],
   "source": [
    "max_duration = spotify_top_50_tracks_df[\"duration_ms\"].max()\n",
    "longest_track_df = spotify_top_50_tracks_df.loc[\n",
    "    spotify_top_50_tracks_df[\"duration_ms\"] == max_duration,\n",
    "    [\"track_name\", \"duration_ms\"],\n",
    "]\n",
    "\n",
    "print(\n",
    "    \"The longest track in Spotify's Top 50 (2020):\",\n",
    ")\n",
    "longest_track_df"
   ]
  },
  {
   "cell_type": "markdown",
   "metadata": {},
   "source": [
    "### Genres\n"
   ]
  },
  {
   "cell_type": "markdown",
   "metadata": {},
   "source": [
    "#### Which genre is the most popular?\n"
   ]
  },
  {
   "cell_type": "code",
   "execution_count": null,
   "metadata": {},
   "outputs": [],
   "source": [
    "most_popular_genre = spotify_top_50_tracks_df[\"genre\"].value_counts()\n",
    "\n",
    "print(\n",
    "    \"The most popular genre in Spotify's Top 50 (2020):\" + \"\\n\",\n",
    "    most_popular_genre.nlargest(3),\n",
    ")"
   ]
  },
  {
   "cell_type": "markdown",
   "metadata": {},
   "source": [
    "#### Which genres have just one song on the top 50?\n"
   ]
  },
  {
   "cell_type": "code",
   "execution_count": null,
   "metadata": {},
   "outputs": [],
   "source": [
    "genres_count = spotify_top_50_tracks_df[\"genre\"].value_counts().reset_index()\n",
    "\n",
    "print(\"The genres having a single song in Spotify's Top 50 (2020):\")\n",
    "\n",
    "genres_count[genres_count[\"count\"] == 1]"
   ]
  },
  {
   "cell_type": "markdown",
   "metadata": {},
   "source": [
    "#### How many genres in total are represented in the top 50?\n"
   ]
  },
  {
   "cell_type": "code",
   "execution_count": null,
   "metadata": {},
   "outputs": [],
   "source": [
    "num_of_separate_genres = genres_count[\"genre\"].count()\n",
    "\n",
    "print(\"Number of different genres in Spotify's Top 50 (2020):\", num_of_separate_genres)"
   ]
  },
  {
   "cell_type": "markdown",
   "metadata": {},
   "source": [
    "### Feature scores compared by genres\n"
   ]
  },
  {
   "cell_type": "markdown",
   "metadata": {},
   "source": [
    "**_Function to compare feature scores of specified genres for 3 tasks/questions below._**\n"
   ]
  },
  {
   "cell_type": "code",
   "execution_count": null,
   "metadata": {},
   "outputs": [],
   "source": [
    "GENRES_OF_INTEREST = [\"Pop\", \"Hip-Hop/Rap\", \"Dance/Electronic\", \"Alternative/Indie\"]\n",
    "\n",
    "\n",
    "def compare_feature_scores_of_genres(\n",
    "    genres_df: pd.DataFrame,\n",
    "    feature_score_col: str,\n",
    "    genres_of_interest: list = GENRES_OF_INTEREST,\n",
    ") -> pd.DataFrame:\n",
    "    filtered_genres_df = genres_df.loc[\n",
    "        genres_df[\"genre\"].isin(genres_of_interest), [\"genre\", feature_score_col]\n",
    "    ]\n",
    "\n",
    "    aggregations = {\n",
    "        feature_score_col + \"_mean\": (feature_score_col, \"mean\"),\n",
    "    }\n",
    "\n",
    "    print(f\"Comparison of genres by '{feature_score_col}' score:\")\n",
    "    return (\n",
    "        filtered_genres_df.groupby(by=\"genre\", observed=True)\n",
    "        .agg(**aggregations)\n",
    "        .sort_values(by=feature_score_col + \"_mean\", ascending=False)\n",
    "        .reset_index()\n",
    "    )"
   ]
  },
  {
   "cell_type": "markdown",
   "metadata": {},
   "source": [
    "#### How does the danceability score compare between Pop, Hip-Hop/Rap, Dance/Electronic, and Alternative/Indie genres?\n"
   ]
  },
  {
   "cell_type": "code",
   "execution_count": null,
   "metadata": {},
   "outputs": [],
   "source": [
    "compare_feature_scores_of_genres(\n",
    "    spotify_top_50_tracks_df,\n",
    "    \"danceability\",\n",
    ")"
   ]
  },
  {
   "cell_type": "markdown",
   "metadata": {},
   "source": [
    "#### How does the loudness score compare between Pop, Hip-Hop/Rap, Dance/Electronic, and Alternative/Indie genres?\n"
   ]
  },
  {
   "cell_type": "code",
   "execution_count": null,
   "metadata": {},
   "outputs": [],
   "source": [
    "compare_feature_scores_of_genres(\n",
    "    spotify_top_50_tracks_df,\n",
    "    \"loudness\",\n",
    ")"
   ]
  },
  {
   "cell_type": "markdown",
   "metadata": {},
   "source": [
    "#### How does the acousticness score compare between Pop, Hip-Hop/Rap, Dance/Electronic, and Alternative/Indie genres?\n"
   ]
  },
  {
   "cell_type": "code",
   "execution_count": null,
   "metadata": {},
   "outputs": [],
   "source": [
    "compare_feature_scores_of_genres(\n",
    "    spotify_top_50_tracks_df,\n",
    "    \"acousticness\",\n",
    ")"
   ]
  },
  {
   "cell_type": "markdown",
   "metadata": {},
   "source": [
    "### Correlations\n"
   ]
  },
  {
   "cell_type": "markdown",
   "metadata": {},
   "source": [
    "**_Function to find correlations between features of the same dataset._**\n"
   ]
  },
  {
   "cell_type": "code",
   "execution_count": 64,
   "metadata": {},
   "outputs": [],
   "source": [
    "def find_correlations_between_features(\n",
    "    df: pd.DataFrame, correlation_type: str\n",
    ") -> pd.DataFrame:\n",
    "    \"\"\"\n",
    "    Function to find correlations between features of the same dataset based on the pearson correlation criteria.\n",
    "    Reference: https://www.semanticscholar.org/paper/Optimizing-Threshold-using-Pearson-Correlation-for-Sabilla-Sarno/68d22a340cec834e3d76b969b46012503abb3b08\n",
    "    \"\"\"\n",
    "    # These thresholds are simplified a bit and do not include 'very weak', 'very strong', 'near perfect' correlations\n",
    "    thresholds = {\n",
    "        \"strong negative\": (-1.00, -0.50),\n",
    "        \"moderate negative\": (-0.49, -0.30),\n",
    "        \"weak negative\": (-0.29, -0.01),\n",
    "        \"not correlated\": (-0.009, 0.009),\n",
    "        \"weak positive\": (0.01, 0.29),\n",
    "        \"moderate positive\": (0.30, 0.49),\n",
    "        \"strong positive\": (0.50, 1.00),\n",
    "    }\n",
    "\n",
    "    if correlation_type not in thresholds:\n",
    "        raise ValueError(\n",
    "            \"Invalid correlation type. Choose from 'strong negative', 'moderate negative', 'weak negative', 'not correlated', 'weak positive', 'moderate positive', or 'strong positive'.\"\n",
    "        )\n",
    "\n",
    "    correlation_matrix = df.corr(method=\"pearson\", numeric_only=True)\n",
    "\n",
    "    lower, upper = thresholds[correlation_type]\n",
    "    if correlation_type == \"not correlated\":\n",
    "        filtered_correlations = correlation_matrix[(correlation_matrix.abs() < upper)]\n",
    "    else:\n",
    "        filtered_correlations = correlation_matrix[\n",
    "            (correlation_matrix > lower) & (correlation_matrix < upper)\n",
    "        ]\n",
    "\n",
    "    return filtered_correlations.dropna(how=\"all\").dropna(axis=1, how=\"all\")"
   ]
  },
  {
   "cell_type": "markdown",
   "metadata": {},
   "source": [
    "#### Which features are strongly positively correlated?\n"
   ]
  },
  {
   "cell_type": "code",
   "execution_count": null,
   "metadata": {},
   "outputs": [],
   "source": [
    "find_correlations_between_features(spotify_top_50_tracks_df, \"strong positive\")"
   ]
  },
  {
   "cell_type": "markdown",
   "metadata": {},
   "source": [
    "#### Which features are strongly negatively correlated?\n"
   ]
  },
  {
   "cell_type": "code",
   "execution_count": null,
   "metadata": {},
   "outputs": [],
   "source": [
    "find_correlations_between_features(spotify_top_50_tracks_df, \"strong negative\")"
   ]
  },
  {
   "cell_type": "markdown",
   "metadata": {},
   "source": [
    "#### Which features are not correlated?\n"
   ]
  },
  {
   "cell_type": "code",
   "execution_count": null,
   "metadata": {},
   "outputs": [],
   "source": [
    "find_correlations_between_features(spotify_top_50_tracks_df, \"not correlated\")"
   ]
  },
  {
   "cell_type": "markdown",
   "metadata": {},
   "source": [
    "## Suggestions for data analysis improvement\n"
   ]
  },
  {
   "cell_type": "markdown",
   "metadata": {},
   "source": [
    "- The code could be more uniform; some code blocks contain repeated logic that could be extracted into functions for better reusability and maintainability.\n",
    "- Some more descriptive statistics (std, median, quantile\n",
    "  ) for numerical features could be added to improve EDA.\n",
    "- Data visualization could be added to improve the readability and insights of the EDA.\n"
   ]
  }
 ],
 "metadata": {
  "kernelspec": {
   "display_name": "Python 3 (ipykernel)",
   "language": "python",
   "name": "python3"
  },
  "language_info": {
   "codemirror_mode": {
    "name": "ipython",
    "version": 3
   },
   "file_extension": ".py",
   "mimetype": "text/x-python",
   "name": "python",
   "nbconvert_exporter": "python",
   "pygments_lexer": "ipython3",
   "version": "3.12.4"
  }
 },
 "nbformat": 4,
 "nbformat_minor": 4
}
